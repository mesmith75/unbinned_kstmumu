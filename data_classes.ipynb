{
 "cells": [
  {
   "cell_type": "code",
   "execution_count": null,
   "id": "c0fdc439",
   "metadata": {},
   "outputs": [],
   "source": [
    "import numpy as np\n",
    "import pandas as pd\n",
    "\n",
    "class evt:\n",
    "    def __init__(_q2, _ctl, _ctk, _phi):\n",
    "        self.q2 = _q2\n",
    "        self.ctl = _ctl\n",
    "        self.ctk = _ctk\n",
    "        self.phi = _phi\n",
    "        \n",
    "        self.m1s = 1. - _ctk**2\n",
    "        self.m1c = _ctl**2\n",
    "        self.m2s = (1. - _ctk**2) * (2.*_ctl**2 - 1.)\n",
    "        self.m2c = _ctk**2 * (2.*_ctl**2 - 1.)\n",
    "        \n",
    "        self.m3 = 3.125*(1. - _ctk**2)*(1. - _ctl**2)*np.cos(2.*_phi)\n",
    "        self.m5 = 2.5 * np.sqrt(1. - _ctl*_ctl) * 2. * _ctk * np.sqrt(1. - _ctk*_ctk) * np.cos(_phi)\n",
    "        self.m4 = 3.125*2*_ctl * np.sqrt(1. - _ctl*_ctl) * 2 * _ctk * np.sqrt(1. - _ctk*_ctk) * np.cos(_phi)\n",
    "        self.mAFB = 0.75*2.5*(1. - _ctk**2)*_ctl\n",
    "        self.m7 = 2.5*2 * _ctk * np.sqrt(1. - _ctk*_ctk)*np.sqrt(1. - _ctl*_ctl)*np.sin(_phi)\n",
    "        self.m8 = 3.125*2 * _ctk * np.sqrt(1. - _ctk*_ctk)*2.*_ctl*np.sqrt(1. - _ctl*_ctl)*np.sin(_phi)\n",
    "        self.m9 = 3.125*(1. - _ctk**2)*(1. - _ctl**2)*np.sin(2.*_phi)\n",
    "        self.m6s = (1. = _ctk**2)*_ctl\n",
    "        self.m6c = _ctk**2 * _ctl\n",
    "        self.mFL = 2. - 2.5*(1. - _ctl**2)\n",
    "        \n",
    "class dat:\n",
    "    def __init__():\n",
    "        self.df = pd.DataFrame()\n",
    "    "
   ]
  }
 ],
 "metadata": {
  "kernelspec": {
   "display_name": "Python 3 (ipykernel)",
   "language": "python",
   "name": "python3"
  },
  "language_info": {
   "codemirror_mode": {
    "name": "ipython",
    "version": 3
   },
   "file_extension": ".py",
   "mimetype": "text/x-python",
   "name": "python",
   "nbconvert_exporter": "python",
   "pygments_lexer": "ipython3",
   "version": "3.10.12"
  }
 },
 "nbformat": 4,
 "nbformat_minor": 5
}
